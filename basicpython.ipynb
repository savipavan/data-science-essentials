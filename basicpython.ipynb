{
 "cells": [
  {
   "cell_type": "code",
   "execution_count": 2,
   "id": "bb29cb47-8b7e-49fd-be52-bb8fb665a5ea",
   "metadata": {},
   "outputs": [
    {
     "name": "stdout",
     "output_type": "stream",
     "text": [
      "34 <class 'str'>\n"
     ]
    }
   ],
   "source": [
    "n1=\"34\"\n",
    "print(n1,type(n1))"
   ]
  },
  {
   "cell_type": "code",
   "execution_count": 5,
   "id": "f767bf83-f8f0-4d62-8b67-bd2944ab5dc8",
   "metadata": {},
   "outputs": [
    {
     "name": "stdin",
     "output_type": "stream",
     "text": [
      "enter number 10\n"
     ]
    },
    {
     "name": "stdout",
     "output_type": "stream",
     "text": [
      "10 <class 'int'>\n"
     ]
    }
   ],
   "source": [
    "n1=int(input(\"enter number\"))\n",
    "print(n1,type(n1))"
   ]
  },
  {
   "cell_type": "code",
   "execution_count": 9,
   "id": "ebdc7c9b-9105-4e84-8ef0-738f33cbd28b",
   "metadata": {},
   "outputs": [
    {
     "name": "stdin",
     "output_type": "stream",
     "text": [
      "Enter age: 55\n"
     ]
    },
    {
     "name": "stdout",
     "output_type": "stream",
     "text": [
      "Adult\n"
     ]
    }
   ],
   "source": [
    "# Condition\n",
    "age=int(input(\"Enter age:\"))\n",
    "if age < 18:\n",
    "    print(\"Child\")\n",
    "elif age < 60:\n",
    "    print(\"Adult\")\n",
    "else:\n",
    "    print(\"Senior\")\n"
   ]
  },
  {
   "cell_type": "code",
   "execution_count": 11,
   "id": "6ccf5e65-48c6-4114-b9b5-86fbe595674b",
   "metadata": {},
   "outputs": [
    {
     "name": "stdout",
     "output_type": "stream",
     "text": [
      "0\n",
      "1\n",
      "2\n",
      "3\n",
      "4\n"
     ]
    }
   ],
   "source": [
    "#Repitative loops\n",
    "for i in range(5):\n",
    "    print(i)"
   ]
  },
  {
   "cell_type": "code",
   "execution_count": 14,
   "id": "291a669e-276d-4847-be10-9cdb64124f2f",
   "metadata": {},
   "outputs": [
    {
     "name": "stdout",
     "output_type": "stream",
     "text": [
      "1\n",
      "2\n",
      "3\n",
      "4\n"
     ]
    }
   ],
   "source": [
    "for i in range(1,5):\n",
    "    print(i)"
   ]
  },
  {
   "cell_type": "code",
   "execution_count": 15,
   "id": "fae5008a-b928-4269-a135-74beb67dfe74",
   "metadata": {},
   "outputs": [
    {
     "name": "stdout",
     "output_type": "stream",
     "text": [
      "1\n",
      "3\n",
      "5\n",
      "7\n",
      "9\n"
     ]
    }
   ],
   "source": [
    "for i in range(1,10,2):\n",
    "    print(i)"
   ]
  },
  {
   "cell_type": "code",
   "execution_count": 8,
   "id": "3521ae87-af2a-4d3f-8657-1c96f441feab",
   "metadata": {},
   "outputs": [
    {
     "name": "stdout",
     "output_type": "stream",
     "text": [
      "1\n",
      "2\n",
      "3\n",
      "4\n"
     ]
    }
   ],
   "source": [
    "i = 1\n",
    "while i<5:\n",
    "    print(i)\n",
    "    i=i+1"
   ]
  },
  {
   "cell_type": "code",
   "execution_count": 2,
   "id": "0349272e-b709-4f3c-b5e0-8e5a25cb9b46",
   "metadata": {},
   "outputs": [],
   "source": [
    "# Fucntion\n",
    "def hello():\n",
    "    print(\"hello from us\")"
   ]
  },
  {
   "cell_type": "code",
   "execution_count": 3,
   "id": "d93614a8-74e5-4b11-a743-fdfd307593d4",
   "metadata": {},
   "outputs": [
    {
     "name": "stdout",
     "output_type": "stream",
     "text": [
      "hello from us\n"
     ]
    }
   ],
   "source": [
    "hello()"
   ]
  },
  {
   "cell_type": "code",
   "execution_count": 4,
   "id": "c924a640-184c-4ced-b084-9232a9851d5e",
   "metadata": {},
   "outputs": [],
   "source": [
    "# Function with Parameter\n",
    "def addPlus(n1,n2):\n",
    "    return n1+n2"
   ]
  },
  {
   "cell_type": "code",
   "execution_count": 7,
   "id": "9ec1299b-d94b-45c1-b24b-4d7251b32888",
   "metadata": {},
   "outputs": [
    {
     "name": "stdout",
     "output_type": "stream",
     "text": [
      "15\n"
     ]
    }
   ],
   "source": [
    "res=addPlus(10,5)\n",
    "print(res)"
   ]
  },
  {
   "cell_type": "code",
   "execution_count": 9,
   "id": "c0a5e5d5-c997-45e8-b859-2c5fc058355c",
   "metadata": {},
   "outputs": [
    {
     "name": "stdout",
     "output_type": "stream",
     "text": [
      "[10]\n"
     ]
    }
   ],
   "source": [
    "# Data structers - let you know how to store the data\n",
    "# divided in to 2 parts\n",
    "# 1- mutable(can change)\n",
    "# list, set , dict\n",
    "# 2 - immutable(cannot change)\n",
    "# Tuple\n",
    "\n",
    "l1 = []\n",
    "l1 = list()\n",
    "l1.append(10)\n",
    "print(l1)"
   ]
  },
  {
   "cell_type": "code",
   "execution_count": 10,
   "id": "8364cb4f-b509-4ff7-b24d-be5884be3606",
   "metadata": {},
   "outputs": [
    {
     "name": "stdout",
     "output_type": "stream",
     "text": [
      "[10, 20]\n"
     ]
    }
   ],
   "source": [
    "# append number in to the list\n",
    "l1.append(20)\n",
    "print(l1)"
   ]
  },
  {
   "cell_type": "code",
   "execution_count": 11,
   "id": "94aa0f93-e2b5-4709-94f6-ba03d6e3999d",
   "metadata": {},
   "outputs": [
    {
     "name": "stdout",
     "output_type": "stream",
     "text": [
      "[100, 20]\n"
     ]
    }
   ],
   "source": [
    "# Change the value\n",
    "l1[0]=100\n",
    "print(l1)"
   ]
  },
  {
   "cell_type": "code",
   "execution_count": 12,
   "id": "8a8dbc8e-4a34-4b42-85a7-d39afd8651e0",
   "metadata": {},
   "outputs": [
    {
     "name": "stdout",
     "output_type": "stream",
     "text": [
      "[20]\n"
     ]
    }
   ],
   "source": [
    "# Del value from the list\n",
    "del l1[0]\n",
    "print(l1)"
   ]
  },
  {
   "cell_type": "code",
   "execution_count": 13,
   "id": "6a99a055-9bac-40d8-bb88-2eb900771a08",
   "metadata": {},
   "outputs": [
    {
     "name": "stdout",
     "output_type": "stream",
     "text": [
      "10\n",
      "20\n",
      "30\n",
      "40\n"
     ]
    }
   ],
   "source": [
    "# for loop in list\n",
    "l1=[10,20,30,40]\n",
    "for element in l1:\n",
    "    print(element)"
   ]
  },
  {
   "cell_type": "code",
   "execution_count": 17,
   "id": "e68dbfa5-d6ba-4bfa-a49e-8aef41cf385d",
   "metadata": {},
   "outputs": [
    {
     "name": "stdout",
     "output_type": "stream",
     "text": [
      "10\n",
      "3\n",
      "10\n",
      "3\n",
      "10\n",
      "3\n"
     ]
    }
   ],
   "source": [
    "# list can have duplicates\n",
    "l1=[10,10,10]\n",
    "for element in l1:\n",
    "    print(element)\n",
    "    print(len(l1))"
   ]
  },
  {
   "cell_type": "code",
   "execution_count": 18,
   "id": "dbdd83ac-46a2-4ed8-856b-2be7007f8c96",
   "metadata": {},
   "outputs": [],
   "source": [
    "#set\n",
    "s1 = set()"
   ]
  },
  {
   "cell_type": "code",
   "execution_count": 19,
   "id": "edbfff6e-37c0-4105-ac13-a407a6db6537",
   "metadata": {},
   "outputs": [],
   "source": [
    "#Add values\n",
    "s1.add(10)\n",
    "s1.add(10)\n",
    "s1.add(10)"
   ]
  },
  {
   "cell_type": "code",
   "execution_count": 20,
   "id": "6a108438-716e-4529-b77d-5e123869ff1c",
   "metadata": {},
   "outputs": [
    {
     "name": "stdout",
     "output_type": "stream",
     "text": [
      "{10}\n"
     ]
    }
   ],
   "source": [
    "print(s1)"
   ]
  },
  {
   "cell_type": "code",
   "execution_count": 27,
   "id": "7f2ebcbb-dd07-4500-b5de-ae14afb2e586",
   "metadata": {},
   "outputs": [],
   "source": [
    "# set doesn't have duplicates, no order specication\n",
    "s1={10,20,30}\n",
    "s2={20,30}\n",
    "s3={40, 50}"
   ]
  },
  {
   "cell_type": "code",
   "execution_count": 22,
   "id": "edf08759-014f-4aa8-97a8-0f5d1f87098e",
   "metadata": {},
   "outputs": [
    {
     "name": "stdout",
     "output_type": "stream",
     "text": [
      "{20, 30}\n"
     ]
    }
   ],
   "source": [
    "#print common in S1, S2\n",
    "print(s1.intersection(s2))"
   ]
  },
  {
   "cell_type": "code",
   "execution_count": 24,
   "id": "e62e076d-f5ac-4f29-bc33-f1427eb5164e",
   "metadata": {},
   "outputs": [
    {
     "name": "stdout",
     "output_type": "stream",
     "text": [
      "True\n"
     ]
    }
   ],
   "source": [
    "# validation\n",
    "print(s1.issuperset(s2))"
   ]
  },
  {
   "cell_type": "code",
   "execution_count": 25,
   "id": "28911884-8f9d-4e6c-8c9f-0b7706f0d831",
   "metadata": {},
   "outputs": [
    {
     "name": "stdout",
     "output_type": "stream",
     "text": [
      "True\n"
     ]
    }
   ],
   "source": [
    "print(s2.issubset(s1))"
   ]
  },
  {
   "cell_type": "code",
   "execution_count": 28,
   "id": "072c1cac-edb9-4282-bda8-385d66bb857c",
   "metadata": {},
   "outputs": [
    {
     "name": "stdout",
     "output_type": "stream",
     "text": [
      "True\n"
     ]
    }
   ],
   "source": [
    "print(s1.isdisjoint(s3))"
   ]
  },
  {
   "cell_type": "code",
   "execution_count": 29,
   "id": "b539ba12-145b-4849-b205-70ac3098186e",
   "metadata": {},
   "outputs": [],
   "source": [
    "# Dictionry\n",
    "d1 = {}\n",
    "d1 = dict()"
   ]
  },
  {
   "cell_type": "code",
   "execution_count": 31,
   "id": "fd02d497-ffe9-47cb-aadc-d4ff25bb4d21",
   "metadata": {},
   "outputs": [
    {
     "name": "stdout",
     "output_type": "stream",
     "text": [
      "{'US': 'united states'}\n",
      "{'US': 'united states', 'UK': 'United Kingdom'}\n"
     ]
    }
   ],
   "source": [
    "d1['US'] = \"united states\"\n",
    "print(d1)\n",
    "d1['UK'] = \"United Kingdom\"\n",
    "print(d1)"
   ]
  },
  {
   "cell_type": "code",
   "execution_count": 32,
   "id": "ae45f643-6698-456a-951a-906ed5a7a15e",
   "metadata": {},
   "outputs": [],
   "source": [
    "# Overwrite the values\n",
    "d1['US']=\"United States of America\""
   ]
  },
  {
   "cell_type": "code",
   "execution_count": 33,
   "id": "89e8c089-1fa9-431c-bdaf-ca5c8f4e2b5a",
   "metadata": {},
   "outputs": [],
   "source": [
    "d1={'US':'United States'}"
   ]
  },
  {
   "cell_type": "code",
   "execution_count": 34,
   "id": "39a6af42-af3d-4474-a281-5aa365585cbe",
   "metadata": {},
   "outputs": [
    {
     "data": {
      "text/plain": [
       "'United States'"
      ]
     },
     "execution_count": 34,
     "metadata": {},
     "output_type": "execute_result"
    }
   ],
   "source": [
    "# Use square brackets to get the values\n",
    "d1['US']"
   ]
  },
  {
   "cell_type": "code",
   "execution_count": 37,
   "id": "1d1588da-ccd9-4245-bf33-42cd485b06a6",
   "metadata": {},
   "outputs": [
    {
     "name": "stdout",
     "output_type": "stream",
     "text": [
      "{'US': 'United States of America', 'IN': 'India'}\n"
     ]
    },
    {
     "data": {
      "text/plain": [
       "'United States of America'"
      ]
     },
     "execution_count": 37,
     "metadata": {},
     "output_type": "execute_result"
    }
   ],
   "source": [
    "# Loop through a dictionary\n",
    "d1={\"US\": \"United States of America\", \"IN\":\"India\"}\n",
    "print(d1)\n",
    "d1[\"US\"]"
   ]
  },
  {
   "cell_type": "code",
   "execution_count": 39,
   "id": "635bf63b-9a00-40d7-b5e7-fb722d91e298",
   "metadata": {},
   "outputs": [
    {
     "data": {
      "text/plain": [
       "'United States of America'"
      ]
     },
     "execution_count": 39,
     "metadata": {},
     "output_type": "execute_result"
    }
   ],
   "source": [
    "d1.get(\"US\")"
   ]
  },
  {
   "cell_type": "code",
   "execution_count": 40,
   "id": "99043f09-3279-4e2a-9fc3-01830e4ee0c3",
   "metadata": {},
   "outputs": [
    {
     "ename": "KeyError",
     "evalue": "'CN'",
     "output_type": "error",
     "traceback": [
      "\u001b[1;31m---------------------------------------------------------------------------\u001b[0m",
      "\u001b[1;31mKeyError\u001b[0m                                  Traceback (most recent call last)",
      "Cell \u001b[1;32mIn[40], line 1\u001b[0m\n\u001b[1;32m----> 1\u001b[0m d1[\u001b[38;5;124m\"\u001b[39m\u001b[38;5;124mCN\u001b[39m\u001b[38;5;124m\"\u001b[39m]\n",
      "\u001b[1;31mKeyError\u001b[0m: 'CN'"
     ]
    }
   ],
   "source": [
    "d1[\"CN\"]"
   ]
  },
  {
   "cell_type": "code",
   "execution_count": 41,
   "id": "7dd9486c-23c5-4145-95bf-5fc39c307f70",
   "metadata": {},
   "outputs": [],
   "source": [
    "d1.get(\"CN\")"
   ]
  },
  {
   "cell_type": "code",
   "execution_count": 42,
   "id": "3e232e56-ed3e-43b9-a43b-69dde15fbd82",
   "metadata": {},
   "outputs": [
    {
     "name": "stdout",
     "output_type": "stream",
     "text": [
      "None\n"
     ]
    }
   ],
   "source": [
    "print(d1.get(\"CN\"))"
   ]
  },
  {
   "cell_type": "code",
   "execution_count": 45,
   "id": "4503d33b-bd2f-42d7-bd22-c94ed7e92df4",
   "metadata": {},
   "outputs": [
    {
     "name": "stdout",
     "output_type": "stream",
     "text": [
      "US United States of America\n",
      "IN India\n"
     ]
    }
   ],
   "source": [
    "# Loop through the dictionaries\n",
    "for k,v in d1.items():\n",
    "    print(k,v)"
   ]
  },
  {
   "cell_type": "code",
   "execution_count": 46,
   "id": "f6dd16f6-be40-4099-ba99-b827699d287a",
   "metadata": {},
   "outputs": [
    {
     "data": {
      "text/plain": [
       "{'US': 'United States of America', 'IN': 'India'}"
      ]
     },
     "execution_count": 46,
     "metadata": {},
     "output_type": "execute_result"
    }
   ],
   "source": [
    "# delete key also delete values\n",
    "d1"
   ]
  },
  {
   "cell_type": "code",
   "execution_count": 47,
   "id": "6f8cd6f0-630f-45e2-bed2-86ad8a0a8ebf",
   "metadata": {},
   "outputs": [],
   "source": [
    "del d1[\"IN\"]"
   ]
  },
  {
   "cell_type": "code",
   "execution_count": 48,
   "id": "af5d5f64-88f6-4438-bec2-3f3f57c1539e",
   "metadata": {},
   "outputs": [
    {
     "data": {
      "text/plain": [
       "{'US': 'United States of America'}"
      ]
     },
     "execution_count": 48,
     "metadata": {},
     "output_type": "execute_result"
    }
   ],
   "source": [
    "d1"
   ]
  },
  {
   "cell_type": "code",
   "execution_count": 49,
   "id": "615b1bb0-a230-4855-980b-e4833803aba9",
   "metadata": {},
   "outputs": [
    {
     "data": {
      "text/plain": [
       "{'US': 'United States of America'}"
      ]
     },
     "execution_count": 49,
     "metadata": {},
     "output_type": "execute_result"
    }
   ],
   "source": [
    "# Duplicas doesn't allow, it will overwrite the values\n",
    "# delete usign popitem\n",
    "# it delete firt key from the dict\n",
    "d1"
   ]
  },
  {
   "cell_type": "code",
   "execution_count": 50,
   "id": "9cf93f91-dfe2-4f11-a4db-69badffb75be",
   "metadata": {},
   "outputs": [
    {
     "data": {
      "text/plain": [
       "('US', 'United States of America')"
      ]
     },
     "execution_count": 50,
     "metadata": {},
     "output_type": "execute_result"
    }
   ],
   "source": [
    "d1.popitem()"
   ]
  },
  {
   "cell_type": "code",
   "execution_count": 51,
   "id": "9d522bfd-9718-4631-9e84-7fdc6132008c",
   "metadata": {},
   "outputs": [
    {
     "data": {
      "text/plain": [
       "{}"
      ]
     },
     "execution_count": 51,
     "metadata": {},
     "output_type": "execute_result"
    }
   ],
   "source": [
    "d1"
   ]
  },
  {
   "cell_type": "code",
   "execution_count": 52,
   "id": "a3d2a91e-084b-4f61-aef4-b2ce12004149",
   "metadata": {},
   "outputs": [],
   "source": [
    "# Empty dictory\n",
    "d1={\"US\":\"United States\",\"IN\":\"India\"}"
   ]
  },
  {
   "cell_type": "code",
   "execution_count": 53,
   "id": "3cefe3ee-3a0a-40a2-a47d-a8d7cfb65939",
   "metadata": {},
   "outputs": [
    {
     "data": {
      "text/plain": [
       "{'US': 'United States', 'IN': 'India'}"
      ]
     },
     "execution_count": 53,
     "metadata": {},
     "output_type": "execute_result"
    }
   ],
   "source": [
    "d1"
   ]
  },
  {
   "cell_type": "code",
   "execution_count": 54,
   "id": "d2787d21-f5bc-42c8-b798-7874415ba825",
   "metadata": {},
   "outputs": [],
   "source": [
    "d1.clear()"
   ]
  },
  {
   "cell_type": "code",
   "execution_count": 55,
   "id": "d27a34ee-5a79-41bc-9429-dac418123c73",
   "metadata": {},
   "outputs": [
    {
     "data": {
      "text/plain": [
       "{}"
      ]
     },
     "execution_count": 55,
     "metadata": {},
     "output_type": "execute_result"
    }
   ],
   "source": [
    "d1"
   ]
  },
  {
   "cell_type": "code",
   "execution_count": 56,
   "id": "13520d66-722e-4589-9edb-8f97295c845d",
   "metadata": {},
   "outputs": [],
   "source": [
    "# Tuple\n",
    "t1=tuple()\n",
    "t1=()"
   ]
  },
  {
   "cell_type": "code",
   "execution_count": 57,
   "id": "4ac41d08-ce79-4960-9870-5845e687f600",
   "metadata": {},
   "outputs": [],
   "source": [
    "t1={1,2,3}"
   ]
  },
  {
   "cell_type": "code",
   "execution_count": 58,
   "id": "93eb12de-a036-4319-bf92-437510c7eeff",
   "metadata": {},
   "outputs": [
    {
     "ename": "TypeError",
     "evalue": "'set' object is not subscriptable",
     "output_type": "error",
     "traceback": [
      "\u001b[1;31m---------------------------------------------------------------------------\u001b[0m",
      "\u001b[1;31mTypeError\u001b[0m                                 Traceback (most recent call last)",
      "Cell \u001b[1;32mIn[58], line 1\u001b[0m\n\u001b[1;32m----> 1\u001b[0m t1[\u001b[38;5;241m0\u001b[39m]\n",
      "\u001b[1;31mTypeError\u001b[0m: 'set' object is not subscriptable"
     ]
    }
   ],
   "source": [
    "t1[0]"
   ]
  },
  {
   "cell_type": "code",
   "execution_count": 59,
   "id": "87085c18-4021-4f4c-b666-877ecd167970",
   "metadata": {},
   "outputs": [],
   "source": [
    "t1 = (1,2,3)"
   ]
  },
  {
   "cell_type": "code",
   "execution_count": 60,
   "id": "9b0e94bc-0be4-41d4-b7c8-11a7e286b718",
   "metadata": {},
   "outputs": [
    {
     "data": {
      "text/plain": [
       "1"
      ]
     },
     "execution_count": 60,
     "metadata": {},
     "output_type": "execute_result"
    }
   ],
   "source": [
    "t1[0]"
   ]
  },
  {
   "cell_type": "code",
   "execution_count": 61,
   "id": "f3abf621-ec3c-4b04-9869-44f707ee56e2",
   "metadata": {},
   "outputs": [
    {
     "data": {
      "text/plain": [
       "2"
      ]
     },
     "execution_count": 61,
     "metadata": {},
     "output_type": "execute_result"
    }
   ],
   "source": [
    "t1[1]"
   ]
  },
  {
   "cell_type": "code",
   "execution_count": 62,
   "id": "94cddc5f-b74c-4a62-9753-050205d1bf54",
   "metadata": {},
   "outputs": [
    {
     "ename": "TypeError",
     "evalue": "'tuple' object does not support item assignment",
     "output_type": "error",
     "traceback": [
      "\u001b[1;31m---------------------------------------------------------------------------\u001b[0m",
      "\u001b[1;31mTypeError\u001b[0m                                 Traceback (most recent call last)",
      "Cell \u001b[1;32mIn[62], line 1\u001b[0m\n\u001b[1;32m----> 1\u001b[0m t1[\u001b[38;5;241m0\u001b[39m]\u001b[38;5;241m=\u001b[39m\u001b[38;5;241m22\u001b[39m\n",
      "\u001b[1;31mTypeError\u001b[0m: 'tuple' object does not support item assignment"
     ]
    }
   ],
   "source": [
    "t1[0]=22"
   ]
  },
  {
   "cell_type": "code",
   "execution_count": null,
   "id": "78a2ec5d-9f43-455e-ac98-df90d2098f8f",
   "metadata": {},
   "outputs": [],
   "source": []
  }
 ],
 "metadata": {
  "kernelspec": {
   "display_name": "Python 3 (ipykernel)",
   "language": "python",
   "name": "python3"
  },
  "language_info": {
   "codemirror_mode": {
    "name": "ipython",
    "version": 3
   },
   "file_extension": ".py",
   "mimetype": "text/x-python",
   "name": "python",
   "nbconvert_exporter": "python",
   "pygments_lexer": "ipython3",
   "version": "3.11.7"
  }
 },
 "nbformat": 4,
 "nbformat_minor": 5
}
