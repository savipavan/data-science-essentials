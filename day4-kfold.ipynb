{
 "cells": [
  {
   "cell_type": "code",
   "execution_count": null,
   "id": "1ea05352-3c4e-453d-8e0a-b54e1544e5b5",
   "metadata": {},
   "outputs": [],
   "source": [
    "# How can we see whether a particular dataset or which algorithem we use on dataset\n",
    "# we can keep apply algorithem or we can use kfold(perferred)\n",
    "# KFold take the data and number of split we mention. apply to algorithem and give the score"
   ]
  },
  {
   "cell_type": "code",
   "execution_count": 31,
   "id": "a5fe3c9d-cc42-4f81-8fc0-4d3429781342",
   "metadata": {},
   "outputs": [],
   "source": [
    "import pandas as pd"
   ]
  },
  {
   "cell_type": "code",
   "execution_count": 32,
   "id": "077dd6fe-480a-4192-8841-469e24b1e8d2",
   "metadata": {},
   "outputs": [],
   "source": [
    "adv=pd.read_csv(\"https://raw.githubusercontent.com/bcbarsness/machine-learning/master/advertising.csv\")"
   ]
  },
  {
   "cell_type": "code",
   "execution_count": 33,
   "id": "4f6e0597-f85a-44f9-8f05-115c97ce457b",
   "metadata": {},
   "outputs": [],
   "source": [
    "from sklearn.preprocessing import LabelEncoder\n",
    "le = LabelEncoder()\n",
    "adv['Country']=le.fit_transform(adv['Country'])\n",
    "X = adv.drop(['Ad Topic Line','City','Timestamp','Clicked on Ad'],axis=1)\n",
    "Y= adv['Clicked on Ad']"
   ]
  },
  {
   "cell_type": "code",
   "execution_count": 34,
   "id": "9368c888-e329-4c3d-878a-47df30ca8073",
   "metadata": {},
   "outputs": [],
   "source": [
    "from sklearn.model_selection import cross_val_score,KFold"
   ]
  },
  {
   "cell_type": "code",
   "execution_count": 35,
   "id": "74ec4030-19c1-456d-96ab-c326c64e4a30",
   "metadata": {},
   "outputs": [],
   "source": [
    "from sklearn.linear_model import LogisticRegression\n",
    "from sklearn.tree import DecisionTreeRegressor"
   ]
  },
  {
   "cell_type": "code",
   "execution_count": 36,
   "id": "6f9067f9-ebdc-454e-8651-ad32b7278d0f",
   "metadata": {},
   "outputs": [],
   "source": [
    "de = DecisionTreeRegressor()\n",
    "lo = LogisticRegression()"
   ]
  },
  {
   "cell_type": "code",
   "execution_count": 37,
   "id": "d290cd3a-db28-4dc7-8feb-6f62b5ceb32a",
   "metadata": {},
   "outputs": [],
   "source": [
    "kfold = KFold(n_splits=10,random_state=0,shuffle=True)\n",
    "# KFold take the data and number of split we mention. apply to algorithem and give the score"
   ]
  },
  {
   "cell_type": "code",
   "execution_count": 38,
   "id": "0a3887c1-cd6b-47d8-9097-2395c8d4b447",
   "metadata": {},
   "outputs": [],
   "source": [
    "descore=cross_val_score(de,X,Y,cv=kfold)"
   ]
  },
  {
   "cell_type": "code",
   "execution_count": 39,
   "id": "512ea365-a043-46cd-9531-63a7fe9fec4c",
   "metadata": {},
   "outputs": [
    {
     "name": "stderr",
     "output_type": "stream",
     "text": [
      "C:\\ProgramData\\anaconda3\\Lib\\site-packages\\sklearn\\linear_model\\_logistic.py:458: ConvergenceWarning: lbfgs failed to converge (status=1):\n",
      "STOP: TOTAL NO. of ITERATIONS REACHED LIMIT.\n",
      "\n",
      "Increase the number of iterations (max_iter) or scale the data as shown in:\n",
      "    https://scikit-learn.org/stable/modules/preprocessing.html\n",
      "Please also refer to the documentation for alternative solver options:\n",
      "    https://scikit-learn.org/stable/modules/linear_model.html#logistic-regression\n",
      "  n_iter_i = _check_optimize_result(\n",
      "C:\\ProgramData\\anaconda3\\Lib\\site-packages\\sklearn\\linear_model\\_logistic.py:458: ConvergenceWarning: lbfgs failed to converge (status=1):\n",
      "STOP: TOTAL NO. of ITERATIONS REACHED LIMIT.\n",
      "\n",
      "Increase the number of iterations (max_iter) or scale the data as shown in:\n",
      "    https://scikit-learn.org/stable/modules/preprocessing.html\n",
      "Please also refer to the documentation for alternative solver options:\n",
      "    https://scikit-learn.org/stable/modules/linear_model.html#logistic-regression\n",
      "  n_iter_i = _check_optimize_result(\n",
      "C:\\ProgramData\\anaconda3\\Lib\\site-packages\\sklearn\\linear_model\\_logistic.py:458: ConvergenceWarning: lbfgs failed to converge (status=1):\n",
      "STOP: TOTAL NO. of ITERATIONS REACHED LIMIT.\n",
      "\n",
      "Increase the number of iterations (max_iter) or scale the data as shown in:\n",
      "    https://scikit-learn.org/stable/modules/preprocessing.html\n",
      "Please also refer to the documentation for alternative solver options:\n",
      "    https://scikit-learn.org/stable/modules/linear_model.html#logistic-regression\n",
      "  n_iter_i = _check_optimize_result(\n"
     ]
    }
   ],
   "source": [
    "lescore=cross_val_score(lo,X,Y,cv=kfold)"
   ]
  },
  {
   "cell_type": "code",
   "execution_count": 40,
   "id": "f42b042c-58b2-4a75-93dd-53ee23c3e887",
   "metadata": {},
   "outputs": [
    {
     "data": {
      "text/plain": [
       "array([0.95, 0.92, 0.94, 0.88, 0.81, 0.92, 0.89, 0.9 , 0.94, 0.94])"
      ]
     },
     "execution_count": 40,
     "metadata": {},
     "output_type": "execute_result"
    }
   ],
   "source": [
    "lescore"
   ]
  },
  {
   "cell_type": "code",
   "execution_count": 41,
   "id": "9358045d-a8eb-4516-b6ab-80dbfaac5da1",
   "metadata": {},
   "outputs": [
    {
     "data": {
      "text/plain": [
       "0.909"
      ]
     },
     "execution_count": 41,
     "metadata": {},
     "output_type": "execute_result"
    }
   ],
   "source": [
    "lescore.mean()"
   ]
  },
  {
   "cell_type": "code",
   "execution_count": 42,
   "id": "b99407da-63c1-4844-9b6e-8c3f7439a0c6",
   "metadata": {},
   "outputs": [
    {
     "data": {
      "text/plain": [
       "0.7372735693922736"
      ]
     },
     "execution_count": 42,
     "metadata": {},
     "output_type": "execute_result"
    }
   ],
   "source": [
    "descore.mean()"
   ]
  },
  {
   "cell_type": "code",
   "execution_count": null,
   "id": "3b7a2e24-72c4-41c0-9e35-b07ba9086951",
   "metadata": {},
   "outputs": [],
   "source": []
  },
  {
   "cell_type": "code",
   "execution_count": null,
   "id": "6ce2d131-4b26-446d-92fe-81a29c961c4b",
   "metadata": {},
   "outputs": [],
   "source": [
    "#https://github.com/vishurudratrainer/notebooks/\n",
    "#https://www.kaggle.com/search"
   ]
  },
  {
   "cell_type": "code",
   "execution_count": null,
   "id": "3235763e-5e10-4a4f-93e5-06443714a273",
   "metadata": {},
   "outputs": [],
   "source": [
    "# Support vector algorithem - each of the class it creates a boarder\n",
    "# Random tree\n",
    "# vishurudra@gmail.com\n",
    "# most of the companies use decison tree, random forest and boosten techniques\n",
    "\n",
    "# join machine learning training for additional information"
   ]
  }
 ],
 "metadata": {
  "kernelspec": {
   "display_name": "Python 3 (ipykernel)",
   "language": "python",
   "name": "python3"
  },
  "language_info": {
   "codemirror_mode": {
    "name": "ipython",
    "version": 3
   },
   "file_extension": ".py",
   "mimetype": "text/x-python",
   "name": "python",
   "nbconvert_exporter": "python",
   "pygments_lexer": "ipython3",
   "version": "3.11.7"
  },
  "widgets": {
   "application/vnd.jupyter.widget-state+json": {
    "state": {},
    "version_major": 2,
    "version_minor": 0
   }
  }
 },
 "nbformat": 4,
 "nbformat_minor": 5
}
